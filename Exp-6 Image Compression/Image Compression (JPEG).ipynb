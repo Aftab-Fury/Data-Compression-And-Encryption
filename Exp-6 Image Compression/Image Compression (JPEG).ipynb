{
  "nbformat": 4,
  "nbformat_minor": 0,
  "metadata": {
    "colab": {
      "name": "Image Compression (JPEG).ipynb",
      "provenance": [],
      "authorship_tag": "ABX9TyOyrU0ebQaeUVTPb7I3w6iu",
      "include_colab_link": true
    },
    "kernelspec": {
      "name": "python3",
      "display_name": "Python 3"
    }
  },
  "cells": [
    {
      "cell_type": "markdown",
      "metadata": {
        "id": "view-in-github",
        "colab_type": "text"
      },
      "source": [
        "<a href=\"https://colab.research.google.com/github/Raihan-J/Data-Compression-And-Encryption/blob/master/Exp-6%20Image%20Compression/Image%20Compression%20(JPEG).ipynb\" target=\"_parent\"><img src=\"https://colab.research.google.com/assets/colab-badge.svg\" alt=\"Open In Colab\"/></a>"
      ]
    },
    {
      "cell_type": "markdown",
      "metadata": {
        "id": "qqyXXd9UT12x"
      },
      "source": [
        "*Sample Image*"
      ]
    },
    {
      "cell_type": "code",
      "metadata": {
        "id": "pKqt0Wf2TrCb"
      },
      "source": [
        "!rm ferrari.*\n",
        "!wget \"https://res.cloudinary.com/dtwr5vm0s/image/upload/v1600165372/Colab/ferrari.jpg\""
      ],
      "execution_count": null,
      "outputs": []
    },
    {
      "cell_type": "markdown",
      "metadata": {
        "id": "VWpApOX_P5to"
      },
      "source": [
        "*Load the Dependencies*\n",
        "\n",
        "This section loads some required libraries used in this notebook: numpy, pandas, cv2, skimage, PIL, matplotlib, SciPy...\n",
        "\n",
        "1. Numpy is an array manipulation library, used for linear algebra, Fourier transform, and random number capabilities.\n",
        "2. Pandas is a library for data manipulation and data analysis.\n",
        "3. CV2 is a library for computer vision tasks.\n",
        "4. Skimage is a library which supports image processing applications on python.\n",
        "5. Matplotlib is a library which generates figures and provides graphical user interface toolkit.\n",
        "6. SciPy is Python library used for scientific computing and technical computing. SciPy contains modules for optimization, linear algebra, integration, interpolation, special functions, FFT, signal and image processing, ODE solvers and other tasks common in science and engineering"
      ]
    },
    {
      "cell_type": "code",
      "metadata": {
        "id": "q_27UqrkPdOl"
      },
      "source": [
        "import cv2\n",
        "import scipy\n",
        "from scipy import fftpack\n",
        "from scipy import ndimage\n",
        "import numpy as np\n",
        "from numpy import r_\n",
        "from numpy import pi\n",
        "import pandas as pd\n",
        "from skimage import io\n",
        "from PIL import Image \n",
        "from google.colab.patches import cv2_imshow\n",
        "import matplotlib.pylab as plt"
      ],
      "execution_count": null,
      "outputs": []
    },
    {
      "cell_type": "markdown",
      "metadata": {
        "id": "jAvYgNRzUap3"
      },
      "source": [
        "To view Images in Colab"
      ]
    },
    {
      "cell_type": "code",
      "metadata": {
        "id": "vgMPB45gQllY"
      },
      "source": [
        "img = cv2.imread('ferrari.jpg', cv2.IMREAD_UNCHANGED)\n",
        "cv2_imshow(img)"
      ],
      "execution_count": null,
      "outputs": []
    },
    {
      "cell_type": "markdown",
      "metadata": {
        "id": "AwLW7urmRT-f"
      },
      "source": [
        "Add Alpha Channel to RGB BGR Image"
      ]
    },
    {
      "cell_type": "code",
      "metadata": {
        "id": "0AGKqbJEUfrf"
      },
      "source": [
        "img = cv2.imread('ferrari.jpg', cv2.IMREAD_UNCHANGED)\n",
        "cv2_imshow(cv2.cvtColor(img, cv2.COLOR_BGR2BGRA ))             #add alpha channel to RGB or BGR image(COLOR_BGR2RGB)"
      ],
      "execution_count": null,
      "outputs": []
    },
    {
      "cell_type": "code",
      "metadata": {
        "id": "U_TIy4y7VpJE",
        "outputId": "12c09c24-0787-438d-c982-1b370dcdf3a4",
        "colab": {
          "base_uri": "https://localhost:8080/",
          "height": 85
        }
      },
      "source": [
        " image = io.imread(\"ferrari.jpg\")\n",
        "# Check the image matrix data type (could know the bit depth of the image)\n",
        "print(image.dtype)\n",
        "# Check the height of image \n",
        "print(image.shape[0])\n",
        "# Check the width of image \n",
        "print(image.shape[1])\n",
        "# Check the number of channels of the image\n",
        "print(image.shape[2])"
      ],
      "execution_count": null,
      "outputs": [
        {
          "output_type": "stream",
          "text": [
            "uint8\n",
            "2160\n",
            "3840\n",
            "3\n"
          ],
          "name": "stdout"
        }
      ]
    },
    {
      "cell_type": "markdown",
      "metadata": {
        "id": "zHtxLZ0dV_FT"
      },
      "source": [
        "Display the histogram of R, G, B channel"
      ]
    },
    {
      "cell_type": "code",
      "metadata": {
        "id": "HX8c9h2HV3JT"
      },
      "source": [
        "color = ('b','g','r')\n",
        "for i,col in enumerate(color):\n",
        "    histr = cv2.calcHist([image],[i],None,[256],[0,256])\n",
        "    plt.plot(histr,color = col)\n",
        "    plt.xlim([0,256])\n",
        "plt.show()"
      ],
      "execution_count": null,
      "outputs": []
    },
    {
      "cell_type": "markdown",
      "metadata": {
        "id": "wam1Vy9vYXZ0"
      },
      "source": [
        "Converting Image To Grayscale"
      ]
    },
    {
      "cell_type": "code",
      "metadata": {
        "id": "g4vAA77CWGun"
      },
      "source": [
        "gray_image = cv2.imread('ferrari.jpg', cv2.IMREAD_GRAYSCALE)\n",
        "cv2.imwrite('grayscale.jpg', gray_image)\n",
        "cv2_imshow(gray_image)"
      ],
      "execution_count": null,
      "outputs": []
    },
    {
      "cell_type": "code",
      "metadata": {
        "id": "gkPp2Hz1WVgM"
      },
      "source": [
        "plt.hist(gray_image.ravel(),bins = 256, range = [0, 256])\n",
        "plt.show()"
      ],
      "execution_count": null,
      "outputs": []
    },
    {
      "cell_type": "markdown",
      "metadata": {
        "id": "0xTn8bVyR2dE"
      },
      "source": [
        "To see Image Properties"
      ]
    },
    {
      "cell_type": "code",
      "metadata": {
        "id": "Yqftw4jiuKv9",
        "outputId": "31ab2708-9e05-4265-a5e6-f8a1f66bb064",
        "colab": {
          "base_uri": "https://localhost:8080/",
          "height": 68
        }
      },
      "source": [
        "img = cv2.imread('grayscale.jpg')\n",
        "\n",
        "print(\"Image Properties\")\n",
        "print(\"- Number of Pixels: \" + str(img.size))\n",
        "print(\"- Shape/Dimensions: \" + str(img.shape))"
      ],
      "execution_count": null,
      "outputs": [
        {
          "output_type": "stream",
          "text": [
            "Image Properties\n",
            "- Number of Pixels: 24883200\n",
            "- Shape/Dimensions: (2160, 3840, 3)\n"
          ],
          "name": "stdout"
        }
      ]
    },
    {
      "cell_type": "markdown",
      "metadata": {
        "id": "iREQmzmiSBWs"
      },
      "source": [
        "Spliting The Image Into RGB Channel"
      ]
    },
    {
      "cell_type": "code",
      "metadata": {
        "id": "_UhMr6mLufQp"
      },
      "source": [
        "blue, green, red = cv2.split(img) # Split the image into its channels\n",
        "img_gs = cv2.imread('ferrari.jpg', cv2.IMREAD_GRAYSCALE) # Convert image to grayscale\n",
        "\n",
        "cv2_imshow(red) # Display the red channel in the image\n",
        "cv2_imshow(blue) # Display the blue channel in the image\n",
        "cv2_imshow(green) # Display the green channel in the image\n",
        "cv2_imshow(img_gs) # Display the grayscale version of image"
      ],
      "execution_count": null,
      "outputs": []
    },
    {
      "cell_type": "markdown",
      "metadata": {
        "id": "tfPx7yo6TPfZ"
      },
      "source": [
        "*Image Thresholding*"
      ]
    },
    {
      "cell_type": "code",
      "metadata": {
        "id": "3CI6PV2Nvtio"
      },
      "source": [
        "# Read image\n",
        "img = cv2.imread('ferrari.jpg', 0)\n",
        "\n",
        "# Perform binary thresholding on the image with T = 125\n",
        "r, threshold = cv2.threshold(img, 125, 255, cv2.THRESH_BINARY)\n",
        "cv2_imshow(threshold)"
      ],
      "execution_count": null,
      "outputs": []
    },
    {
      "cell_type": "markdown",
      "metadata": {
        "id": "ImT019Q8ZDgg"
      },
      "source": [
        "Changing Size Of Plot"
      ]
    },
    {
      "cell_type": "code",
      "metadata": {
        "id": "5Fl3oNBgLq7t"
      },
      "source": [
        "%matplotlib inline\n",
        "plt.rcParams['figure.figsize'] = (20.0, 10.0)  # Size Of the Image"
      ],
      "execution_count": null,
      "outputs": []
    },
    {
      "cell_type": "code",
      "metadata": {
        "id": "s3mwg9IuAZ6e"
      },
      "source": [
        "image1 = io.imread(\"grayscale.jpg\")\n",
        "plt.imshow(image1, cmap=plt.cm.gray, vmin=50, vmax=100)        \n",
        "# Remove axes and ticks\n",
        "plt.axis('on')"
      ],
      "execution_count": null,
      "outputs": []
    },
    {
      "cell_type": "code",
      "metadata": {
        "id": "cEhR0tinMUxj"
      },
      "source": [
        "plt.contour(image1, [20, 100])"
      ],
      "execution_count": null,
      "outputs": []
    },
    {
      "cell_type": "markdown",
      "metadata": {
        "id": "8NxohGN9ZNUg"
      },
      "source": [
        "Cropping, Fliping, Rotating The Image"
      ]
    },
    {
      "cell_type": "code",
      "metadata": {
        "id": "o7pYTA3UX8fj"
      },
      "source": [
        "img1 = io.imread(\"grayscale.jpg\")\n",
        "\n",
        "lx, ly = img1.shape\n",
        "cv2_imshow(img1)\n",
        "# Cropping\n",
        "crop_car = img1[lx // 4: - lx // 4, ly // 4: - ly // 4]\n",
        "# up <-> down flip\n",
        "flip_ud_car = np.flipud(img1)\n",
        "# rotation\n",
        "rotate_car = ndimage.rotate(img1, 45)\n",
        "rotate_car_noreshape = ndimage.rotate(img1, 180, reshape=False)"
      ],
      "execution_count": null,
      "outputs": []
    },
    {
      "cell_type": "code",
      "metadata": {
        "id": "_Xv4ow_H3JTH"
      },
      "source": [
        "cv2_imshow(crop_car)"
      ],
      "execution_count": null,
      "outputs": []
    },
    {
      "cell_type": "code",
      "metadata": {
        "id": "crOGZbAj3l0j"
      },
      "source": [
        "cv2_imshow(flip_ud_car)"
      ],
      "execution_count": null,
      "outputs": []
    },
    {
      "cell_type": "code",
      "metadata": {
        "id": "KY9QatA73pUX"
      },
      "source": [
        "cv2_imshow(rotate_car)"
      ],
      "execution_count": null,
      "outputs": []
    },
    {
      "cell_type": "code",
      "metadata": {
        "id": "1XJE_P_T4czQ"
      },
      "source": [
        "cv2_imshow(rotate_car_noreshape)"
      ],
      "execution_count": null,
      "outputs": []
    },
    {
      "cell_type": "markdown",
      "metadata": {
        "id": "zn1ajSRTTrYg"
      },
      "source": [
        "*Bluring Image Using Gaussian Blur*"
      ]
    },
    {
      "cell_type": "code",
      "metadata": {
        "id": "CtSv3EdS4n4R"
      },
      "source": [
        "# Integer 0 indicates that we want to load a grayscale image\n",
        "img2 = cv2.imread('ferrari.jpg',0)\n",
        "Gaussian_blurred = np.hstack([\n",
        "  cv2.GaussianBlur(img2,(3,3),0),\n",
        "  cv2.GaussianBlur(img2,(5,5),0),\n",
        "  cv2.GaussianBlur(img2,(9,9),0)])  \n",
        "cv2_imshow(Gaussian_blurred)"
      ],
      "execution_count": null,
      "outputs": []
    },
    {
      "cell_type": "markdown",
      "metadata": {
        "id": "eU_gsiToT2cq"
      },
      "source": [
        "*Sharpening The Image*"
      ]
    },
    {
      "cell_type": "code",
      "metadata": {
        "id": "pzf4WaPp9Qag"
      },
      "source": [
        "img3 = cv2.imread('ferrari.jpg',1)\n",
        "# Creating our sharpening filter\n",
        "filter = np.array([[-1, -1, -1], [-1, 9, -1], [-1, -1, -1]])\n",
        "# Applying cv2.filter2D function on our Ferrari image\n",
        "sharpen_img=cv2.filter2D(img3,-1,filter)\n",
        "cv2_imshow(sharpen_img)"
      ],
      "execution_count": null,
      "outputs": []
    },
    {
      "cell_type": "markdown",
      "metadata": {
        "id": "143kq7SCXbln"
      },
      "source": [
        "*DCT*"
      ]
    },
    {
      "cell_type": "code",
      "metadata": {
        "id": "hdRY9vfj_99q"
      },
      "source": [
        "def dct2(a):\n",
        "    return scipy.fftpack.dct( scipy.fftpack.dct( a, axis=0, norm='ortho' ), axis=1, norm='ortho' )\n",
        "\n",
        "def idct2(a):\n",
        "    return scipy.fftpack.idct( scipy.fftpack.idct( a, axis=0 , norm='ortho'), axis=1 , norm='ortho')"
      ],
      "execution_count": null,
      "outputs": []
    },
    {
      "cell_type": "code",
      "metadata": {
        "id": "ZcLviK1fAEh7"
      },
      "source": [
        "img_1 = cv2.imread('grayscale.jpg')\n",
        "imsize = img_1.shape\n",
        "dct = np.zeros(imsize)\n",
        "\n",
        "# Do 8x8 DCT on image (in-place)\n",
        "for i in r_[:imsize[0]:8]:\n",
        "    for j in r_[:imsize[1]:8]:\n",
        "        dct[i:(i+8),j:(j+8)] = dct2( img_1[i:(i+8),j:(j+8)] )"
      ],
      "execution_count": null,
      "outputs": []
    },
    {
      "cell_type": "code",
      "metadata": {
        "id": "IGqG6EZgArVR"
      },
      "source": [
        "img_1"
      ],
      "execution_count": null,
      "outputs": []
    },
    {
      "cell_type": "code",
      "metadata": {
        "id": "087aziuKAu54"
      },
      "source": [
        "imsize"
      ],
      "execution_count": null,
      "outputs": []
    },
    {
      "cell_type": "code",
      "metadata": {
        "id": "iuiUIJEbAy8c"
      },
      "source": [
        "dct"
      ],
      "execution_count": null,
      "outputs": []
    },
    {
      "cell_type": "code",
      "metadata": {
        "id": "vGWuptD7A1PD"
      },
      "source": [
        "img4 = cv2.imread('grayscale.jpg')\n",
        "pos = 128\n",
        "# Extract a block from image\n",
        "plt.figure()\n",
        "plt.imshow(img4[pos:pos+8,pos:pos+8],cmap='gray')\n",
        "plt.title( \"An 8x8 Image block\")\n",
        "\n",
        "# Display the dct of that block\n",
        "plt.figure()\n",
        "plt.imshow(dct[pos:pos+8,pos:pos+8],cmap='gray',vmax= np.max(dct)*0.01,vmin = 0, extent=[0,pi,pi,0])\n",
        "plt.title( \"An 8x8 DCT block\")"
      ],
      "execution_count": null,
      "outputs": []
    },
    {
      "cell_type": "code",
      "metadata": {
        "id": "v5Al_RFdCMRp"
      },
      "source": [
        "# Display entire DCT\n",
        "plt.figure()\n",
        "plt.imshow(dct,cmap='gray',vmax = np.max(dct)*0.01,vmin = 0)\n",
        "plt.title( \"8x8 DCTs of the image\")"
      ],
      "execution_count": null,
      "outputs": []
    },
    {
      "cell_type": "markdown",
      "metadata": {
        "id": "uXrN8rNlZwoJ"
      },
      "source": [
        "*Comparison Between The Original Image And DCT Compressed Image*"
      ]
    },
    {
      "cell_type": "code",
      "metadata": {
        "id": "Qh_ZYusqCVDn"
      },
      "source": [
        "im_dct = np.zeros(imsize)\n",
        "thresh = 0.012\n",
        "dct_thresh = dct * (abs(dct) > (thresh*np.max(dct)))\n",
        "\n",
        "\n",
        "for i in r_[:imsize[0]:8]:\n",
        "    for j in r_[:imsize[1]:8]:\n",
        "        im_dct[i:(i+8),j:(j+8)] = idct2( dct_thresh[i:(i+8),j:(j+8)] )\n",
        "        \n",
        "cv2_imshow( np.hstack((img4, im_dct)))"
      ],
      "execution_count": null,
      "outputs": []
    },
    {
      "cell_type": "markdown",
      "metadata": {
        "id": "8Zo5AAxlXjzc"
      },
      "source": [
        "*Edge Detection*"
      ]
    },
    {
      "cell_type": "code",
      "metadata": {
        "id": "k87ufgftu5Am"
      },
      "source": [
        "# Declaring the output graph's size\n",
        "plt.figure(figsize=(20, 20))\n",
        "\n",
        "# Convert image to grayscale\n",
        "img_gs = cv2.imread('ferrari.jpg', cv2.IMREAD_GRAYSCALE)\n",
        "cv2.imwrite('gs.jpg', img_gs)\n",
        "\n",
        "# Apply canny edge detector algorithm on the image to find edges\n",
        "edges = cv2.Canny(img_gs, 100,200)\n",
        "\n",
        "# Plot the original image against the edges\n",
        "plt.subplot(121), plt.imshow(img_gs, cmap='gray')\n",
        "plt.title('Original Gray Scale Image')\n",
        "plt.subplot(122), plt.imshow(edges, cmap='gray')\n",
        "plt.title('Edge Image')\n",
        "\n",
        "# Display the two images\n",
        "plt.show()"
      ],
      "execution_count": null,
      "outputs": []
    }
  ]
}